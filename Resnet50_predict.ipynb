{
 "cells": [
  {
   "cell_type": "markdown",
   "metadata": {
    "tags": []
   },
   "source": [
    "# Setup (classifier)"
   ]
  },
  {
   "cell_type": "code",
   "execution_count": 1,
   "metadata": {
    "tags": []
   },
   "outputs": [],
   "source": [
    "%reload_ext autoreload\n",
    "%autoreload 2\n",
    "%matplotlib inline\n",
    "from tqdm import tqdm,tqdm_notebook\n",
    "import pandas as pd\n",
    "from pathlib import Path\n",
    "import json\n",
    "from PIL import ImageDraw, ImageFont\n",
    "from matplotlib import patches, patheffects\n",
    "import matplotlib.pyplot as plt\n",
    "import scipy.io as sio\n",
    "\n",
    "import matplotlib.pyplot as plt\n",
    "import numpy as np\n",
    "\n",
    "import torch\n",
    "import torch.nn as nn\n",
    "import torch.optim as optim\n",
    "import torchvision\n",
    "import torchvision.models as models\n",
    "import torchvision.transforms as transforms\n",
    "\n",
    "import time\n",
    "import os\n",
    "import PIL.Image as Image\n",
    "from IPython.display import display\n"
   ]
  },
  {
   "cell_type": "code",
   "execution_count": 2,
   "metadata": {},
   "outputs": [
    {
     "name": "stdout",
     "output_type": "stream",
     "text": [
      "total 0\n"
     ]
    }
   ],
   "source": [
    "! ls -l /home/ngailam_ho/content"
   ]
  },
  {
   "cell_type": "markdown",
   "metadata": {
    "tags": []
   },
   "source": [
    "# Training"
   ]
  },
  {
   "cell_type": "markdown",
   "metadata": {
    "tags": []
   },
   "source": [
    "classes_path = \"/root/.cache/kagglehub/datasets/jutrera/stanford-car-dataset-by-classes-folder/versions/2/car_data/car_data\"\n",
    "\n",
    "train_annos_path = classes_path\n",
    "test_annos_path = classes_path\n",
    "#classes_path = 'devkit/cars_meta.mat' names.csv\n",
    "#classes_path = \"/root/.cache/kagglehub/datasets/jutrera/stanford-car-dataset-by-classes-folder/versions/2/car_data/car_data\"\n",
    "\n",
    "def get_labels(annos_path, classes_path):\n",
    "    car_annos = sio.loadmat(path + annos_path)\n",
    "    car_meta = sio.loadmat(path + classes_path)\n",
    "    annotations = car_annos[\"annotations\"][0,:]\n",
    "    nclasses = len(car_meta[\"class_names\"][0])\n",
    "    class_names = dict(zip(range(1,nclasses),[c[0] for c in car_meta[\"class_names\"][0]]))\n",
    "\n",
    "    labelled_images = {}\n",
    "    dataset = []\n",
    "    for i,arr in enumerate(annotations):\n",
    "        # the last entry in the row is the image name\n",
    "        # The rest is the data, first bbox, then classid\n",
    "        dataset.append([y[0][0] for y in arr][0:5]+[arr[5][0]])\n",
    "    # Convert to a DataFrame, and specify the column names\n",
    "    temp_df = pd.DataFrame(dataset,\n",
    "                      columns =['BBOX_X1','BBOX_Y1','BBOX_X2','BBOX_Y2','ClassID','filename'])\n",
    "\n",
    "    temp_df = temp_df.assign(ClassName=temp_df.ClassID.map(dict(class_names)))\n",
    "    temp_df.columns = ['bbox_x1','bbox_y1','bbox_x2','bbox_y2','class_id','filename', 'class_name']\n",
    "    return temp_df"
   ]
  },
  {
   "cell_type": "markdown",
   "metadata": {
    "tags": []
   },
   "source": [
    "## setup training"
   ]
  },
  {
   "cell_type": "code",
   "execution_count": 9,
   "metadata": {
    "tags": []
   },
   "outputs": [],
   "source": [
    "def train_model(model, criterion, optimizer, scheduler, n_epochs = 5):\n",
    "    assert(0)\n",
    "    '''\n",
    "    losses = []\n",
    "    accuracies = []\n",
    "    test_accuracies = []\n",
    "    # set the model to train mode initially\n",
    "    model.train()\n",
    "    model=model.to('cuda')\n",
    "    for epoch in range(n_epochs):\n",
    "        since = time.time()\n",
    "        running_loss = 0.0\n",
    "        running_correct = 0.0\n",
    "        for i, data in enumerate(trainloader, 0):\n",
    "\n",
    "            # get the inputs and assign them to cuda\n",
    "            inputs, labels = data\n",
    "            \n",
    "            inputs, labels = inputs.cuda(), labels.cuda()\n",
    "            optimizer.zero_grad()\n",
    "             # forward + backward + optimize\n",
    "                \n",
    "            outputs = model(inputs)\n",
    "            _, predicted = torch.max(outputs.data, 1)\n",
    "            loss = criterion(outputs, labels)\n",
    "            loss.backward()\n",
    "            optimizer.step()\n",
    "            \n",
    "            # calculate the loss/acc later\n",
    "            running_loss += loss.item()\n",
    "            running_correct += (labels==predicted).sum().item()\n",
    "\n",
    "        epoch_duration = time.time()-since\n",
    "        epoch_loss = running_loss/len(trainloader)\n",
    "        epoch_acc = 100/32*running_correct/len(trainloader)\n",
    "        print(\"Epoch %s, duration: %d s, loss: %.4f, acc: %.4f\" % (epoch+1, epoch_duration, epoch_loss, epoch_acc))\n",
    "        \n",
    "        losses.append(epoch_loss)\n",
    "        accuracies.append(epoch_acc)\n",
    "        model.eval()\n",
    "        test_acc = eval_model(model)\n",
    "        test_accuracies.append(test_acc)\n",
    "        \n",
    "        # re-set the model to train mode after validating\n",
    "        model.train()\n",
    "        scheduler.step(test_acc)\n",
    "        since = time.time()\n",
    "    print('Finished Training')\n",
    "    '''\n",
    "    assert(0)    \n",
    "    return model, losses, accuracies, test_accuracies\n"
   ]
  },
  {
   "cell_type": "code",
   "execution_count": 10,
   "metadata": {
    "tags": []
   },
   "outputs": [],
   "source": [
    "def eval_model(model):\n",
    "    correct = 0.0\n",
    "    total = 0.0\n",
    "    with torch.no_grad():\n",
    "        for i, data in enumerate(testloader, 0):\n",
    "            images, labels = data\n",
    "            \n",
    "            images = images.to(device)\n",
    "            labels = labels.to(device)\n",
    "            \n",
    "            outputs = model_ft(images)\n",
    "            _, predicted = torch.max(outputs.data, 1)\n",
    "            \n",
    "            total += labels.size(0)\n",
    "            correct += (predicted == labels).sum().item()\n",
    "        test_acc = 100.0 * correct / total\n",
    "    print('Accuracy of the network on the test images: %0.2f %%' % (test_acc))\n",
    "    return test_acc\n"
   ]
  },
  {
   "cell_type": "code",
   "execution_count": 11,
   "metadata": {
    "tags": []
   },
   "outputs": [
    {
     "name": "stdout",
     "output_type": "stream",
     "text": [
      "Using CUDA : cuda:0\n",
      "NVIDIA GeForce RTX 2080 Ti\n",
      "root : ../StanfordCars/data/stanford-cars-dataset/data/car_data/car_data//train \n"
     ]
    }
   ],
   "source": [
    "device = torch.device(\"cuda:0\" if torch.cuda.is_available() else \"cpu\")\n",
    "print(f\"Using CUDA : {device}\")\n",
    "print(torch.cuda.get_device_name(device))\n",
    "\n",
    "\n",
    "\n",
    "dataset_dir = \"../StanfordCars/data/stanford-cars-dataset/data/car_data/car_data/\"\n",
    "\n",
    "train_tfms = transforms.Compose([transforms.Resize((400, 400)),\n",
    "                                 transforms.RandomHorizontalFlip(),\n",
    "                                 transforms.RandomRotation(15),\n",
    "                                 transforms.ToTensor(),\n",
    "                                 transforms.Normalize((0.5, 0.5, 0.5), (0.5, 0.5, 0.5))])\n",
    "test_tfms = transforms.Compose([transforms.Resize((400, 400)),\n",
    "                                transforms.ToTensor(),\n",
    "                                transforms.Normalize((0.5, 0.5, 0.5), (0.5, 0.5, 0.5))])\n",
    "\n",
    "print(f\"root : {dataset_dir}/train \")\n",
    "dataset = torchvision.datasets.ImageFolder(root = f\"{dataset_dir}/\",\n",
    "                                           transform = train_tfms)\n",
    "trainloader = torch.utils.data.DataLoader(dataset, batch_size = 32,\n",
    "                                          shuffle=True, num_workers = 2)\n",
    "\n",
    "dataset2 = torchvision.datasets.ImageFolder(root =  f\"{dataset_dir}/\",\n",
    "                                            transform = test_tfms)\n",
    "testloader = torch.utils.data.DataLoader(dataset2, batch_size = 32,\n",
    "                                         shuffle=False, num_workers = 2)\n",
    "\n"
   ]
  },
  {
   "cell_type": "markdown",
   "metadata": {
    "tags": []
   },
   "source": [
    "# Classifier"
   ]
  },
  {
   "cell_type": "code",
   "execution_count": 84,
   "metadata": {},
   "outputs": [
    {
     "name": "stdout",
     "output_type": "stream",
     "text": [
      ">>> torch.load('Rasnet50.pth') \n"
     ]
    },
    {
     "name": "stderr",
     "output_type": "stream",
     "text": [
      "Downloading: \"https://download.pytorch.org/models/resnet50-11ad3fa6.pth\" to /home/ngailam_ho/.cache/torch/hub/checkpoints/resnet50-11ad3fa6.pth\n",
      "100%|████████████████████████████████████████████████████████████████████████████████████| 97.8M/97.8M [00:00<00:00, 116MB/s]\n"
     ]
    }
   ],
   "source": [
    "#### LOAD MODEL\n",
    "from torchvision.models import resnet50, ResNet50_Weights\n",
    "\n",
    "print(f\">>> torch.load('Rasnet50.pth') \")\n",
    "\n",
    "# Step 1: Initialize model with the best available weights\n",
    "weights = ResNet50_Weights.DEFAULT\n",
    "\n",
    "#preprocess = torch.load('Rasnet50.pth', weights_only=True)\n",
    "model = resnet50( weights=weights)\n",
    "model.eval()\n",
    "\n",
    "# Define image transformations\n",
    "transform = transforms.Compose([\n",
    "    transforms.Resize(224),\n",
    "    transforms.CenterCrop(224),\n",
    "    transforms.ToTensor(),\n",
    "    transforms.Normalize(mean=[0.485, 0.456, 0.406], std=[0.229, 0.224, 0.225])\n",
    "])\n"
   ]
  },
  {
   "cell_type": "code",
   "execution_count": 151,
   "metadata": {},
   "outputs": [],
   "source": [
    "# Make predictions on a sample image\n",
    "def img_classify(image_path, img_height=128, img_width=128):\n",
    "    # image_path = \"images.jpg\"\n",
    "    img = tf.keras.preprocessing.image.load_img(image_path, target_size=(img_height, img_width))\n",
    "    #img_array = tf.keras.preprocessing.image.img_to_array(img)\n",
    "    #img_array = tf.expand_dims(img_array, 0)  # Create a batch\n",
    "    img_tensor = transform(img).unsqueeze(0)  # Add a batch dimension\n",
    "\n",
    "\n",
    "    # Make prediction\n",
    "    with torch.no_grad():\n",
    "        output = model(img_tensor)\n",
    "        _, predicted = torch.max(output.data, 1)\n",
    "\n",
    "    # Get the class name corresponding to the predicted index\n",
    "    class_names = ['class1', 'class2', 'class3', 'class4', 'class5', 'class6']\n",
    "    #print(f\"# img_classify(...) :   '{image_path}' ?? --> CLASS:{predicted.item()} \")\n",
    "    return predicted.item()"
   ]
  },
  {
   "cell_type": "code",
   "execution_count": 152,
   "metadata": {},
   "outputs": [],
   "source": [
    "# img_array = tf.keras.preprocessing.image.img_to_array(img)\n",
    "# img_array = tf.expand_dims(img_array, 0)  # Create a batch"
   ]
  },
  {
   "cell_type": "code",
   "execution_count": null,
   "metadata": {},
   "outputs": [
    {
     "name": "stdout",
     "output_type": "stream",
     "text": [
      " file:cars_test/cars_test/Aston Martin Virage Coupe 2012/00653.jpg (653)  CORRECTLY PREDICTED: --> 'Aston Martin Virage Coupe 2012' : (0.27472527472527475) %\n",
      " file:cars_test/cars_test/Aston Martin Virage Coupe 2012/00654.jpg (654)  CORRECTLY PREDICTED: --> 'Aston Martin Virage Coupe 2012' : (0.547945205479452) %\n",
      " file:cars_test/cars_test/Aston Martin Virage Coupe 2012/00656.jpg (656)  CORRECTLY PREDICTED: --> 'Aston Martin Virage Coupe 2012' : (0.8174386920980926) %\n",
      " file:cars_test/cars_test/Aston Martin Virage Coupe 2012/00661.jpg (661)  CORRECTLY PREDICTED: --> 'Aston Martin Virage Coupe 2012' : (1.075268817204301) %\n",
      " file:cars_test/cars_test/Aston Martin Virage Coupe 2012/00668.jpg (668)  CORRECTLY PREDICTED: --> 'Aston Martin Virage Coupe 2012' : (1.3192612137203166) %\n",
      " file:cars_test/cars_test/Aston Martin Virage Coupe 2012/00670.jpg (670)  CORRECTLY PREDICTED: --> 'Aston Martin Virage Coupe 2012' : (1.5748031496062993) %\n",
      " file:cars_test/cars_test/Aston Martin Virage Coupe 2012/00673.jpg (673)  CORRECTLY PREDICTED: --> 'Aston Martin Virage Coupe 2012' : (1.8229166666666667) %\n",
      " file:cars_test/cars_test/Aston Martin Virage Coupe 2012/00675.jpg (675)  CORRECTLY PREDICTED: --> 'Aston Martin Virage Coupe 2012' : (2.0725388601036268) %\n",
      " file:cars_test/cars_test/Aston Martin Virage Coupe 2012/00677.jpg (677)  CORRECTLY PREDICTED: --> 'Aston Martin Virage Coupe 2012' : (2.3195876288659796) %\n",
      " file:cars_test/cars_test/Audi 100 Wagon 1994/00633.jpg (633)  CORRECTLY PREDICTED: --> 'Audi 100 Wagon 1994' : (2.1551724137931036) %\n",
      " file:cars_test/cars_test/Audi 100 Wagon 1994/00641.jpg (641)  CORRECTLY PREDICTED: --> 'Audi 100 Wagon 1994' : (2.330508474576271) %\n",
      " file:cars_test/cars_test/Audi 100 Wagon 1994/00649.jpg (649)  CORRECTLY PREDICTED: --> 'Audi 100 Wagon 1994' : (2.5) %\n",
      " file:cars_test/cars_test/Audi S4 Sedan 2007/00490.jpg (490)  CORRECTLY PREDICTED: --> 'Audi S4 Sedan 2007' : (2.1207177814029365) %\n",
      " file:cars_test/cars_test/Audi S5 Coupe 2012/00703.jpg (703)  CORRECTLY PREDICTED: --> 'Audi S5 Coupe 2012' : (1.8842530282637955) %\n",
      " file:cars_test/cars_test/Audi S5 Coupe 2012/00719.jpg (719)  CORRECTLY PREDICTED: --> 'Audi S5 Coupe 2012' : (1.9788918205804749) %\n",
      " file:cars_test/cars_test/Audi S5 Coupe 2012/00724.jpg (724)  CORRECTLY PREDICTED: --> 'Audi S5 Coupe 2012' : (2.0969855832241153) %\n",
      " file:cars_test/cars_test/Audi TTS Coupe 2012/00829.jpg (829)  CORRECTLY PREDICTED: --> 'Audi TTS Coupe 2012' : (2.0) %\n",
      " file:cars_test/cars_test/Audi TTS Coupe 2012/00815.jpg (815)  CORRECTLY PREDICTED: --> 'Audi TTS Coupe 2012' : (2.102803738317757) %\n",
      " file:cars_test/cars_test/Audi TTS Coupe 2012/00816.jpg (816)  CORRECTLY PREDICTED: --> 'Audi TTS Coupe 2012' : (2.2170361726954493) %\n",
      " file:cars_test/cars_test/Audi TTS Coupe 2012/00821.jpg (821)  CORRECTLY PREDICTED: --> 'Audi TTS Coupe 2012' : (2.320185614849188) %\n",
      " file:cars_test/cars_test/Audi TTS Coupe 2012/00822.jpg (822)  CORRECTLY PREDICTED: --> 'Audi TTS Coupe 2012' : (2.433371958285052) %\n",
      " file:cars_test/cars_test/Audi TTS Coupe 2012/00824.jpg (824)  CORRECTLY PREDICTED: --> 'Audi TTS Coupe 2012' : (2.5433526011560694) %\n",
      " file:cars_test/cars_test/Audi TTS Coupe 2012/00827.jpg (827)  CORRECTLY PREDICTED: --> 'Audi TTS Coupe 2012' : (2.6497695852534564) %\n",
      " file:cars_test/cars_test/Audi TTS Coupe 2012/00828.jpg (828)  CORRECTLY PREDICTED: --> 'Audi TTS Coupe 2012' : (2.761795166858458) %\n",
      " file:cars_test/cars_test/Audi TTS Coupe 2012/00832.jpg (832)  CORRECTLY PREDICTED: --> 'Audi TTS Coupe 2012' : (2.86697247706422) %\n",
      " file:cars_test/cars_test/Audi TTS Coupe 2012/00833.jpg (833)  CORRECTLY PREDICTED: --> 'Audi TTS Coupe 2012' : (2.9782359679266897) %\n",
      " file:cars_test/cars_test/Audi TTS Coupe 2012/00834.jpg (834)  CORRECTLY PREDICTED: --> 'Audi TTS Coupe 2012' : (3.0892448512585813) %\n",
      " file:cars_test/cars_test/Audi TTS Coupe 2012/00836.jpg (836)  CORRECTLY PREDICTED: --> 'Audi TTS Coupe 2012' : (3.1963470319634704) %\n",
      " file:cars_test/cars_test/Audi TTS Coupe 2012/00838.jpg (838)  CORRECTLY PREDICTED: --> 'Audi TTS Coupe 2012' : (3.3029612756264237) %\n",
      " file:cars_test/cars_test/Audi TTS Coupe 2012/00845.jpg (845)  CORRECTLY PREDICTED: --> 'Audi TTS Coupe 2012' : (3.389830508474576) %\n",
      " file:cars_test/cars_test/Audi TTS Coupe 2012/00848.jpg (848)  CORRECTLY PREDICTED: --> 'Audi TTS Coupe 2012' : (3.490990990990991) %\n",
      " file:cars_test/cars_test/Audi TTS Coupe 2012/00849.jpg (849)  CORRECTLY PREDICTED: --> 'Audi TTS Coupe 2012' : (3.5995500562429696) %\n",
      " file:cars_test/cars_test/Audi TTS Coupe 2012/00850.jpg (850)  CORRECTLY PREDICTED: --> 'Audi TTS Coupe 2012' : (3.707865168539326) %\n",
      " file:cars_test/cars_test/Audi TTS Coupe 2012/00851.jpg (851)  CORRECTLY PREDICTED: --> 'Audi TTS Coupe 2012' : (3.8159371492704826) %\n",
      " file:cars_test/cars_test/00490.jpg (490)  CORRECTLY PREDICTED: --> 'Audi S4 Sedan 2007' : (0.4107017132128608) %\n",
      " file:cars_test/cars_test/00633.jpg (633)  CORRECTLY PREDICTED: --> 'Audi 100 Wagon 1994' : (0.4158004158004158) %\n",
      " file:cars_test/cars_test/00641.jpg (641)  CORRECTLY PREDICTED: --> 'Audi 100 Wagon 1994' : (0.4270051933064051) %\n",
      " file:cars_test/cars_test/00649.jpg (649)  CORRECTLY PREDICTED: --> 'Audi 100 Wagon 1994' : (0.43814135823821054) %\n",
      " file:cars_test/cars_test/00653.jpg (653)  CORRECTLY PREDICTED: --> 'Aston Martin Virage Coupe 2012' : (0.44946410049556296) %\n",
      " file:cars_test/cars_test/00654.jpg (654)  CORRECTLY PREDICTED: --> 'Aston Martin Virage Coupe 2012' : (0.46093569946992397) %\n",
      " file:cars_test/cars_test/00656.jpg (656)  CORRECTLY PREDICTED: --> 'Aston Martin Virage Coupe 2012' : (0.47235023041474655) %\n",
      " file:cars_test/cars_test/00661.jpg (661)  CORRECTLY PREDICTED: --> 'Aston Martin Virage Coupe 2012' : (0.4836480884385076) %\n",
      " file:cars_test/cars_test/00668.jpg (668)  CORRECTLY PREDICTED: --> 'Aston Martin Virage Coupe 2012' : (0.494764699114026) %\n",
      " file:cars_test/cars_test/00670.jpg (670)  CORRECTLY PREDICTED: --> 'Aston Martin Virage Coupe 2012' : (0.5061543770850109) %\n",
      " file:cars_test/cars_test/00673.jpg (673)  CORRECTLY PREDICTED: --> 'Aston Martin Virage Coupe 2012' : (0.5174793008279669) %\n",
      " file:cars_test/cars_test/00675.jpg (675)  CORRECTLY PREDICTED: --> 'Aston Martin Virage Coupe 2012' : (0.5288572085536904) %\n",
      " file:cars_test/cars_test/00677.jpg (677)  CORRECTLY PREDICTED: --> 'Aston Martin Virage Coupe 2012' : (0.5402298850574713) %\n",
      " file:cars_test/cars_test/00703.jpg (703)  CORRECTLY PREDICTED: --> 'Audi S5 Coupe 2012' : (0.5502063273727648) %\n",
      " file:cars_test/cars_test/00719.jpg (719)  CORRECTLY PREDICTED: --> 'Audi S5 Coupe 2012' : (0.5606407322654462) %\n",
      " file:cars_test/cars_test/00724.jpg (724)  CORRECTLY PREDICTED: --> 'Audi S5 Coupe 2012' : (0.5718206770356816) %\n",
      " file:cars_test/cars_test/00815.jpg (815)  CORRECTLY PREDICTED: --> 'Audi TTS Coupe 2012' : (0.5764014466546112) %\n",
      " file:cars_test/cars_test/00816.jpg (816)  CORRECTLY PREDICTED: --> 'Audi TTS Coupe 2012' : (0.5876370211323313) %\n",
      " file:cars_test/cars_test/00821.jpg (821)  CORRECTLY PREDICTED: --> 'Audi TTS Coupe 2012' : (0.598667118490907) %\n",
      " file:cars_test/cars_test/00822.jpg (822)  CORRECTLY PREDICTED: --> 'Audi TTS Coupe 2012' : (0.6098938332956856) %\n",
      " file:cars_test/cars_test/00824.jpg (824)  CORRECTLY PREDICTED: --> 'Audi TTS Coupe 2012' : (0.6210478771454381) %\n",
      " file:cars_test/cars_test/00827.jpg (827)  CORRECTLY PREDICTED: --> 'Audi TTS Coupe 2012' : (0.6321255220679535) %\n",
      " file:cars_test/cars_test/00828.jpg (828)  CORRECTLY PREDICTED: --> 'Audi TTS Coupe 2012' : (0.6433408577878104) %\n",
      " file:cars_test/cars_test/00829.jpg (829)  CORRECTLY PREDICTED: --> 'Audi TTS Coupe 2012' : (0.6545536621148854) %\n",
      " file:cars_test/cars_test/00832.jpg (832)  CORRECTLY PREDICTED: --> 'Audi TTS Coupe 2012' : (0.6656137184115524) %\n",
      " file:cars_test/cars_test/00833.jpg (833)  CORRECTLY PREDICTED: --> 'Audi TTS Coupe 2012' : (0.676818950930626) %\n",
      " file:cars_test/cars_test/00834.jpg (834)  CORRECTLY PREDICTED: --> 'Audi TTS Coupe 2012' : (0.6880216557635912) %\n",
      " file:cars_test/cars_test/00836.jpg (836)  CORRECTLY PREDICTED: --> 'Audi TTS Coupe 2012' : (0.6991429860171403) %\n",
      " file:cars_test/cars_test/00838.jpg (838)  CORRECTLY PREDICTED: --> 'Audi TTS Coupe 2012' : (0.7102593010146562) %\n",
      " file:cars_test/cars_test/00845.jpg (845)  CORRECTLY PREDICTED: --> 'Audi TTS Coupe 2012' : (0.7210455159981974) %\n",
      " file:cars_test/cars_test/00848.jpg (848)  CORRECTLY PREDICTED: --> 'Audi TTS Coupe 2012' : (0.7320644216691069) %\n",
      " file:cars_test/cars_test/00849.jpg (849)  CORRECTLY PREDICTED: --> 'Audi TTS Coupe 2012' : (0.7432432432432432) %\n",
      " file:cars_test/cars_test/00850.jpg (850)  CORRECTLY PREDICTED: --> 'Audi TTS Coupe 2012' : (0.7544195473482715) %\n",
      " file:cars_test/cars_test/00851.jpg (851)  CORRECTLY PREDICTED: --> 'Audi TTS Coupe 2012' : (0.7655933348344968) %\n"
     ]
    }
   ],
   "source": [
    "#! find   /media/ngailam_ho/sdb/HTX_StanfordCars | grep -v git | head -50\n",
    "import os\n",
    "import tensorflow as tf\n",
    "import pandas as pd\n",
    "import tqdm\n",
    "\n",
    "test_df = pd.read_csv(\"testing_labels.csv\")\n",
    "all_models = sorted( test_df['Cars'].unique())\n",
    "models,makes,years = dict(),dict(),dict()\n",
    "\n",
    "for i,row in test_df.iterrows():\n",
    "    j = row['testing_num']\n",
    "    models[j], makes[j], years[j] = row['Cars'], row['Make'], row['Year']\n",
    "\n",
    "correct,total=0,0\n",
    "\n",
    "for root, dirs, files in os.walk( 'cars_test/cars_test', topdown=False):\n",
    "    for file in files:\n",
    "        total = total+1\n",
    "        img_path = os.path.join( root, file)\n",
    "        testfilenum = int( file.replace(\".jpg\",\"\"))\n",
    "        \n",
    "        predicted = img_classify( img_path)\n",
    "        \n",
    "        if f'{models[predicted]}' ==  f'{models[testfilenum]}':\n",
    "            correct = correct+1\n",
    "            print(f\" file:{img_path} CORRECTLY PREDICTED: --> '{models[predicted]}' : ({ 100 * correct / total}) %\")\n",
    "\n",
    "print(f\" Accuracy: {correct} / {total} = {100 * correct / total} %\")\n"
   ]
  },
  {
   "cell_type": "code",
   "execution_count": 132,
   "metadata": {},
   "outputs": [
    {
     "name": "stdout",
     "output_type": "stream",
     "text": [
      "/media/ngailam_ho/sdb/HTX_StanfordCars\n"
     ]
    }
   ],
   "source": [
    "!pwd # ls -l Rasnet50*"
   ]
  },
  {
   "cell_type": "code",
   "execution_count": null,
   "metadata": {},
   "outputs": [],
   "source": []
  }
 ],
 "metadata": {
  "kaggle": {
   "accelerator": "gpu",
   "dataSources": [
    {
     "datasetId": 31559,
     "sourceId": 46697,
     "sourceType": "datasetVersion"
    }
   ],
   "dockerImageVersionId": 30302,
   "isGpuEnabled": true,
   "isInternetEnabled": true,
   "language": "python",
   "sourceType": "notebook"
  },
  "kernelspec": {
   "display_name": "Python 3 (ipykernel)",
   "language": "python",
   "name": "python3"
  },
  "language_info": {
   "codemirror_mode": {
    "name": "ipython",
    "version": 3
   },
   "file_extension": ".py",
   "mimetype": "text/x-python",
   "name": "python",
   "nbconvert_exporter": "python",
   "pygments_lexer": "ipython3",
   "version": "3.9.13"
  }
 },
 "nbformat": 4,
 "nbformat_minor": 4
}
